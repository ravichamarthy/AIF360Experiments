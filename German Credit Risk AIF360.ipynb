{
 "cells": [
  {
   "cell_type": "markdown",
   "metadata": {},
   "source": [
    "# Measuring machine learning model fairness using AIF360 fairness metrics\n",
    "\n",
    "This notebook should be run in a Watson Studio project, using the **Default Spark Python 3.6** runtime environment. **If you are viewing this in Watson Studio and do not see `Python 3.6 with Spark` in the upper right corner of your screen, please update the runtime now.** It requires service credentials for the following Cloud services:\n",
    "  * Watson Machine Learning\n",
    "  \n",
    "The notebook will train, create and deploy a German Credit Risk model, and measure the fairness of the model using AIF360 fairness metrics.\n",
    "   * https://aif360.mybluemix.net"
   ]
  },
  {
   "cell_type": "markdown",
   "metadata": {
    "collapsed": true
   },
   "source": [
    "## Test Spark"
   ]
  },
  {
   "cell_type": "code",
   "execution_count": 56,
   "metadata": {},
   "outputs": [],
   "source": [
    "try:\n",
    "    from pyspark.sql import SparkSession\n",
    "except:\n",
    "    print('Error: Spark runtime is missing. If you are using Watson Studio change the notebook runtime to Spark.')\n",
    "    raise"
   ]
  },
  {
   "cell_type": "markdown",
   "metadata": {},
   "source": [
    "## Package installation\n",
    "### If the testing of spark session failed, then run the below step of installing the required packages and restart the kernel."
   ]
  },
  {
   "cell_type": "code",
   "execution_count": 2,
   "metadata": {
    "scrolled": true
   },
   "outputs": [
    {
     "name": "stdout",
     "output_type": "stream",
     "text": [
      "Successfully installed py4j-0.10.6 pyspark-2.3.0\n",
      "Successfully installed psycopg2-binary-2.8.4\n",
      "Successfully installed watson-machine-learning-client-1.0.378\n",
      "Requirement already up-to-date: numpy in /opt/conda/envs/Python36/lib/python3.6/site-packages (1.17.4)\n",
      "\u001b[31mERROR: autoai-libs 1.10.3 has requirement pandas>=0.24.2, but you'll have pandas 0.24.1 which is incompatible.\u001b[0m\n",
      "Successfully installed SciPy-1.3.2\n",
      "Requirement already satisfied, skipping upgrade: six>=1.5 in /opt/conda/envs/Python36/lib/python3.6/site-packages (from python-dateutil>=2.5.0->pandas>=0.23.3->aif360) (1.12.0)\n"
     ]
    }
   ],
   "source": [
    "!rm -rf $PIP_BUILD\n",
    "!pip install --upgrade pyspark==2.3 --no-cache | tail -n 1\n",
    "!pip install --upgrade psycopg2-binary --no-cache | tail -n 1\n",
    "!pip install --upgrade watson-machine-learning-client --no-cache | tail -n 1\n",
    "!pip install --upgrade numpy --no-cache | tail -n 1\n",
    "!pip install --upgrade SciPy --no-cache | tail -n 1\n",
    "!pip install --upgrade aif360 --no-cache | tail -n 1"
   ]
  },
  {
   "cell_type": "markdown",
   "metadata": {},
   "source": [
    "# Provision services and configure credentials"
   ]
  },
  {
   "cell_type": "markdown",
   "metadata": {},
   "source": [
    "You will need credentials for Watson Machine Learning. If you already have a WML instance, you may use credentials for it. To provision a new Lite instance of WML, use the [IBM Cloud catalog](https://cloud.ibm.com/catalog/services/machine-learning):  \n",
    "* Give your service a name, and click **Create**.  \n",
    "* Once your instance is created, click the **Service Credentials** link on the left side of the screen.  \n",
    "* Click the **New credential** button, give your credentials a name, and click **Add**.  \n",
    "* Your new credentials can be accessed by clicking the **View credentials** button.  \n",
    "* Copy and paste your WML credentials into the cell below."
   ]
  },
  {
   "cell_type": "code",
   "execution_count": 3,
   "metadata": {
    "scrolled": true
   },
   "outputs": [],
   "source": [
    "WML_CREDENTIALS = {\n",
    "  \"apikey\": \"JS1k7veBHCd0sp_xxxxxxxxxxxxx\",\n",
    "  \"iam_apikey_description\": \"Auto-generated for key 24a63085-xxxxxxxxxxxxx\",\n",
    "  \"iam_apikey_name\": \"Service credentials-1\",\n",
    "  \"iam_role_crn\": \"crn:v1:bluemix:public:iam::::serviceRole:Writer\",\n",
    "  \"iam_serviceid_crn\": \"crn:v1:bluemix:public:iam-identity::a/xxxxxxxxxxxxx::serviceid:ServiceId-7cae910a-291c-42cb-xxxxxxxxxxxxx\",\n",
    "  \"instance_id\": \"3e6dc383-581d-4c97-xxxxxxxxxxxxx\",\n",
    "  \"url\": \"https://us-south.ml.cloud.ibm.com\"\n",
    "}"
   ]
  },
  {
   "cell_type": "markdown",
   "metadata": {},
   "source": [
    "# Run the notebook\n",
    "\n",
    "At this point, the notebook is ready to run. You can either run the cells one at a time, or click the **Kernel** option above and select **Restart and Run All** to run all the cells."
   ]
  },
  {
   "cell_type": "markdown",
   "metadata": {},
   "source": [
    "## Load the training data from github"
   ]
  },
  {
   "cell_type": "code",
   "execution_count": 4,
   "metadata": {
    "scrolled": true
   },
   "outputs": [
    {
     "name": "stdout",
     "output_type": "stream",
     "text": [
      "rm: cannot remove ‘german_credit_data_biased_training.csv’: No such file or directory\n",
      "--2019-11-23 12:31:08--  https://raw.githubusercontent.com/ravichamarthy/german-credit/master/credit_risk_training_modified_1711.csv\n",
      "Resolving raw.githubusercontent.com (raw.githubusercontent.com)... 199.232.8.133\n",
      "Connecting to raw.githubusercontent.com (raw.githubusercontent.com)|199.232.8.133|:443... connected.\n",
      "HTTP request sent, awaiting response... 200 OK\n",
      "Length: 947513 (925K) [text/plain]\n",
      "Saving to: ‘credit_risk_training_modified_1711.csv’\n",
      "\n",
      "100%[======================================>] 947,513     --.-K/s   in 0.04s   \n",
      "\n",
      "2019-11-23 12:31:09 (23.4 MB/s) - ‘credit_risk_training_modified_1711.csv’ saved [947513/947513]\n",
      "\n"
     ]
    }
   ],
   "source": [
    "!rm german_credit_data_biased_training.csv\n",
    "#!wget https://raw.githubusercontent.com/ravichamarthy/german-credit/master/credit_risk_training_modified.csv\n",
    "#!wget https://raw.githubusercontent.com/IBM/monitor-wml-model-with-watson-openscale/master/data/german_credit_data_biased_training.csv\n",
    "!wget https://raw.githubusercontent.com/ravichamarthy/german-credit/master/credit_risk_training_modified_1711.csv"
   ]
  },
  {
   "cell_type": "code",
   "execution_count": 5,
   "metadata": {
    "scrolled": true
   },
   "outputs": [
    {
     "data": {
      "text/plain": [
       "Row(CheckingStatus='less_0', LoanDuration=15, CreditHistory='prior_payments_delayed', LoanPurpose='furniture', LoanAmount=250, ExistingSavings='less_100', EmploymentDuration='1_to_4', InstallmentPercent=2, Sex='male', OthersOnLoan='none', CurrentResidenceDuration=3, OwnsProperty='real_estate', Age=28, InstallmentPlans='none', Housing='own', ExistingCreditsCount=2, Job='skilled', Dependents=1, Telephone='yes', ForeignWorker='no', Risk='No Risk')"
      ]
     },
     "execution_count": 5,
     "metadata": {},
     "output_type": "execute_result"
    }
   ],
   "source": [
    "from pyspark.sql import SparkSession\n",
    "import pandas as pd\n",
    "import json\n",
    "\n",
    "spark = SparkSession.builder.getOrCreate()\n",
    "pd_data = pd.read_csv(\"credit_risk_training_modified_1711.csv\", sep=\",\", header=0)\n",
    "df_data = spark.read.csv(path=\"credit_risk_training_modified_1711.csv\", sep=\",\", header=True, inferSchema=True)\n",
    "df_data.head()"
   ]
  },
  {
   "cell_type": "markdown",
   "metadata": {},
   "source": [
    "## Explore data\n",
    "### Print the schema of the training to know what are all the attributes on which we can potentially create and train the model"
   ]
  },
  {
   "cell_type": "code",
   "execution_count": 6,
   "metadata": {
    "scrolled": true
   },
   "outputs": [
    {
     "name": "stdout",
     "output_type": "stream",
     "text": [
      "root\n",
      " |-- CheckingStatus: string (nullable = true)\n",
      " |-- LoanDuration: integer (nullable = true)\n",
      " |-- CreditHistory: string (nullable = true)\n",
      " |-- LoanPurpose: string (nullable = true)\n",
      " |-- LoanAmount: integer (nullable = true)\n",
      " |-- ExistingSavings: string (nullable = true)\n",
      " |-- EmploymentDuration: string (nullable = true)\n",
      " |-- InstallmentPercent: integer (nullable = true)\n",
      " |-- Sex: string (nullable = true)\n",
      " |-- OthersOnLoan: string (nullable = true)\n",
      " |-- CurrentResidenceDuration: integer (nullable = true)\n",
      " |-- OwnsProperty: string (nullable = true)\n",
      " |-- Age: integer (nullable = true)\n",
      " |-- InstallmentPlans: string (nullable = true)\n",
      " |-- Housing: string (nullable = true)\n",
      " |-- ExistingCreditsCount: integer (nullable = true)\n",
      " |-- Job: string (nullable = true)\n",
      " |-- Dependents: integer (nullable = true)\n",
      " |-- Telephone: string (nullable = true)\n",
      " |-- ForeignWorker: string (nullable = true)\n",
      " |-- Risk: string (nullable = true)\n",
      "\n"
     ]
    }
   ],
   "source": [
    "df_data.printSchema()"
   ]
  },
  {
   "cell_type": "code",
   "execution_count": 7,
   "metadata": {
    "scrolled": true
   },
   "outputs": [
    {
     "name": "stdout",
     "output_type": "stream",
     "text": [
      "Number of records: 6884\n"
     ]
    }
   ],
   "source": [
    "print(\"Number of records: \" + str(df_data.count()))"
   ]
  },
  {
   "cell_type": "markdown",
   "metadata": {},
   "source": [
    "### Find out the different distributions in the training data"
   ]
  },
  {
   "cell_type": "code",
   "execution_count": 8,
   "metadata": {},
   "outputs": [],
   "source": [
    "# feature on which we want to check the fairness\n",
    "feature = 'Sex'\n",
    "\n",
    "# the favorable prediction value\n",
    "favorable = 'No Risk'\n",
    "\n",
    "# the unfavorable prediction value\n",
    "unfavorable = 'Risk'\n",
    "\n",
    "# the unprivileged/minority group\n",
    "minority = 'female'\n",
    "\n",
    "# the privileged/majority group\n",
    "majority = 'male'"
   ]
  },
  {
   "cell_type": "code",
   "execution_count": 9,
   "metadata": {},
   "outputs": [],
   "source": [
    "def get_data_distribution(df, label):\n",
    "    # the favorable data frame\n",
    "    favorable_df = df.loc[df[label] == favorable]\n",
    "\n",
    "    # the unfavorable data frame\n",
    "    unfavorable_df = df.loc[df[label] == unfavorable]\n",
    "\n",
    "    # the filtered minority data frame\n",
    "    minority_df = df.loc[df[feature] == minority]\n",
    "\n",
    "    # the filtered majority data frame\n",
    "    majority_df = df.loc[df[feature] == majority]\n",
    "\n",
    "    # the filtered data frame comprising of majority population getting favorable values\n",
    "    minority_favorable_df = favorable_df.loc[df[feature] == minority]\n",
    "\n",
    "    # the filtered data frame comprising of majority population getting favorable values\n",
    "    majority_favorable_df = favorable_df.loc[df[feature] == majority]\n",
    "\n",
    "    # the filtered data frame comprising of minority population getting unfavorable values\n",
    "    minority_unfavorable_df = unfavorable_df.loc[df[feature] == minority]\n",
    "\n",
    "    # the filtered data frame comprising of majority population getting unfavorable values\n",
    "    majority_unfavorable_df = unfavorable_df.loc[df[feature] == majority]\n",
    "\n",
    "    # find the rate at which minority population received favorable outcome\n",
    "    favorable_minority_rate = len(minority_favorable_df) / len(minority_df)\n",
    "\n",
    "    # find the rate at which majority population received favorable outcome\n",
    "    favorable_majority_rate = len(majority_favorable_df) / len(majority_df)\n",
    "    \n",
    "    return minority_df, majority_df, minority_favorable_df, majority_favorable_df, minority_unfavorable_df, majority_unfavorable_df, favorable_minority_rate, favorable_majority_rate\n"
   ]
  },
  {
   "cell_type": "code",
   "execution_count": 10,
   "metadata": {},
   "outputs": [],
   "source": [
    "# the label column\n",
    "label = 'Risk'\n",
    "\n",
    "minority_df, majority_df, minority_favorable_df, majority_favorable_df, minority_unfavorable_df, majority_unfavorable_df, \\\n",
    "favorable_minority_rate, favorable_majority_rate = get_data_distribution(pd_data, label)\n",
    "\n",
    "# calculate the disparate impact ratio\n",
    "di_value = favorable_minority_rate / favorable_majority_rate\n",
    "\n",
    "# calculate the statistical parity differance\n",
    "spd_value = favorable_minority_rate - favorable_majority_rate"
   ]
  },
  {
   "cell_type": "code",
   "execution_count": 11,
   "metadata": {},
   "outputs": [
    {
     "name": "stdout",
     "output_type": "stream",
     "text": [
      "Length of the training data frame:6884\n",
      "Number of minorities/unprivileged population (female) :1695\n",
      "Number of majorities/privilaged population (male) :5189\n",
      "Number of minorities with favorable outcomes (female) :1414\n",
      "Number of majorities with favorable outcomes (male) :4800\n",
      "Number of minorities with unfavorable outcomes (female) :281\n",
      "Number of majorities with unfavorable outcomes (male) :389\n",
      "The disparate impact metric value on the training data:0.9018247295968534\n",
      "The statistical parity difference metric value on the training data:-0.09081543610235177\n"
     ]
    }
   ],
   "source": [
    "print('Length of the training data frame:' + str(len(pd_data)))\n",
    "\n",
    "print('Number of minorities/unprivileged population (' + str(minority) + ') :' + str(len(minority_df)))\n",
    "print('Number of majorities/privilaged population (' + str(majority) + ') :' + str(len(majority_df)))\n",
    "print('Number of minorities with favorable outcomes (' + str(minority) + ') :' + str(len(minority_favorable_df)))\n",
    "print('Number of majorities with favorable outcomes (' + str(majority) + ') :' + str(len(majority_favorable_df)))\n",
    "print('Number of minorities with unfavorable outcomes (' + str(minority) + ') :' + str(len(minority_unfavorable_df)))\n",
    "print('Number of majorities with unfavorable outcomes (' + str(majority) + ') :' + str(len(majority_unfavorable_df)))\n",
    "\n",
    "\n",
    "print('The disparate impact metric value on the training data:'+str(di_value))\n",
    "print('The statistical parity difference metric value on the training data:'+str(spd_value))"
   ]
  },
  {
   "cell_type": "markdown",
   "metadata": {},
   "source": [
    "## Visualize the data distribution\n",
    "### Plot the distribution for number of minorities and majorities"
   ]
  },
  {
   "cell_type": "code",
   "execution_count": 12,
   "metadata": {},
   "outputs": [
    {
     "data": {
      "text/plain": [
       "<Figure size 640x480 with 1 Axes>"
      ]
     },
     "metadata": {},
     "output_type": "display_data"
    }
   ],
   "source": [
    "from matplotlib import pyplot as plt\n",
    "\n",
    "x_axis = [1, 0]\n",
    "y_axis = [len(minority_df), len(majority_df)]\n",
    "x_axis_labels = [minority, majority]\n",
    "\n",
    "plt.bar(x_axis, y_axis, align='center')\n",
    "plt.xticks(x_axis, x_axis_labels)\n",
    "plt.xlabel('Sex')\n",
    "plt.ylabel('No. of minority/majority values')\n",
    "plt.title('Minority/Majority distribution')\n",
    "plt.show()"
   ]
  },
  {
   "cell_type": "markdown",
   "metadata": {},
   "source": [
    "### Plot the favorable lables distribution for minorities and majorities"
   ]
  },
  {
   "cell_type": "code",
   "execution_count": 13,
   "metadata": {},
   "outputs": [
    {
     "data": {
      "image/png": "[encoded data removed]",
      "text/plain": [
       "<Figure size 432x288 with 1 Axes>"
      ]
     },
     "metadata": {
      "needs_background": "light"
     },
     "output_type": "display_data"
    }
   ],
   "source": [
    "x_axis = [1, 0]\n",
    "y_axis = [len(minority_favorable_df), len(majority_favorable_df)]\n",
    "x_axis_labels = [minority, majority]\n",
    "\n",
    "plt.bar(x_axis, y_axis, align='center')\n",
    "plt.xticks(x_axis, x_axis_labels)\n",
    "plt.xlabel('Sex')\n",
    "plt.ylabel('No. of favorable labels')\n",
    "plt.title('Favorable distribution')\n",
    "plt.show()"
   ]
  },
  {
   "cell_type": "markdown",
   "metadata": {},
   "source": [
    "### Plot the unfavorable lables distribution for minorities and majorities"
   ]
  },
  {
   "cell_type": "code",
   "execution_count": 14,
   "metadata": {},
   "outputs": [
    {
     "data": {
      "image/png": "[encoded data removed]",
      "text/plain": [
       "<Figure size 432x288 with 1 Axes>"
      ]
     },
     "metadata": {
      "needs_background": "light"
     },
     "output_type": "display_data"
    }
   ],
   "source": [
    "x_axis = [1, 0]\n",
    "y_axis = [len(minority_unfavorable_df), len(majority_unfavorable_df)]\n",
    "x_axis_labels = [minority, majority]\n",
    "\n",
    "plt.bar(x_axis, y_axis, align='center')\n",
    "plt.xticks(x_axis, x_axis_labels)\n",
    "plt.xlabel('Sex')\n",
    "plt.ylabel('No. of unfavorable labels')\n",
    "plt.title('Unfavorable distribution')\n",
    "plt.show()"
   ]
  },
  {
   "cell_type": "markdown",
   "metadata": {},
   "source": [
    "# Create the model"
   ]
  },
  {
   "cell_type": "code",
   "execution_count": 15,
   "metadata": {
    "scrolled": true
   },
   "outputs": [
    {
     "name": "stdout",
     "output_type": "stream",
     "text": [
      "Number of records for training: 5498\n",
      "Number of records for evaluation: 1386\n",
      "root\n",
      " |-- CheckingStatus: string (nullable = true)\n",
      " |-- LoanDuration: integer (nullable = true)\n",
      " |-- CreditHistory: string (nullable = true)\n",
      " |-- LoanPurpose: string (nullable = true)\n",
      " |-- LoanAmount: integer (nullable = true)\n",
      " |-- ExistingSavings: string (nullable = true)\n",
      " |-- EmploymentDuration: string (nullable = true)\n",
      " |-- InstallmentPercent: integer (nullable = true)\n",
      " |-- Sex: string (nullable = true)\n",
      " |-- OthersOnLoan: string (nullable = true)\n",
      " |-- CurrentResidenceDuration: integer (nullable = true)\n",
      " |-- OwnsProperty: string (nullable = true)\n",
      " |-- Age: integer (nullable = true)\n",
      " |-- InstallmentPlans: string (nullable = true)\n",
      " |-- Housing: string (nullable = true)\n",
      " |-- ExistingCreditsCount: integer (nullable = true)\n",
      " |-- Job: string (nullable = true)\n",
      " |-- Dependents: integer (nullable = true)\n",
      " |-- Telephone: string (nullable = true)\n",
      " |-- ForeignWorker: string (nullable = true)\n",
      " |-- Risk: string (nullable = true)\n",
      "\n"
     ]
    }
   ],
   "source": [
    "# train test split step\n",
    "spark_df = df_data\n",
    "(train_data, test_data) = spark_df.randomSplit([0.8, 0.2], 24)\n",
    "\n",
    "MODEL_NAME = \"Spark German Risk Model - Final\"\n",
    "DEPLOYMENT_NAME = \"Spark German Risk Deployment - Final\"\n",
    "\n",
    "print(\"Number of records for training: \" + str(train_data.count()))\n",
    "print(\"Number of records for evaluation: \" + str(test_data.count()))\n",
    "\n",
    "spark_df.printSchema()"
   ]
  },
  {
   "cell_type": "code",
   "execution_count": 16,
   "metadata": {
    "scrolled": true
   },
   "outputs": [],
   "source": [
    "from pyspark.ml.feature import OneHotEncoder, StringIndexer, IndexToString, VectorAssembler\n",
    "from pyspark.ml.evaluation import BinaryClassificationEvaluator\n",
    "from pyspark.ml import Pipeline, Model\n",
    "\n",
    "# data type conversion that are needed to be created for the Random Forest Classifier\n",
    "si_CheckingStatus = StringIndexer(inputCol = 'CheckingStatus', outputCol = 'CheckingStatus_IX')\n",
    "si_CreditHistory = StringIndexer(inputCol = 'CreditHistory', outputCol = 'CreditHistory_IX')\n",
    "si_LoanPurpose = StringIndexer(inputCol = 'LoanPurpose', outputCol = 'LoanPurpose_IX')\n",
    "si_ExistingSavings = StringIndexer(inputCol = 'ExistingSavings', outputCol = 'ExistingSavings_IX')\n",
    "si_EmploymentDuration = StringIndexer(inputCol = 'EmploymentDuration', outputCol = 'EmploymentDuration_IX')\n",
    "si_Sex = StringIndexer(inputCol = 'Sex', outputCol = 'Sex_IX')\n",
    "si_OthersOnLoan = StringIndexer(inputCol = 'OthersOnLoan', outputCol = 'OthersOnLoan_IX')\n",
    "si_OwnsProperty = StringIndexer(inputCol = 'OwnsProperty', outputCol = 'OwnsProperty_IX')\n",
    "si_InstallmentPlans = StringIndexer(inputCol = 'InstallmentPlans', outputCol = 'InstallmentPlans_IX')\n",
    "si_Housing = StringIndexer(inputCol = 'Housing', outputCol = 'Housing_IX')\n",
    "si_Job = StringIndexer(inputCol = 'Job', outputCol = 'Job_IX')\n",
    "si_Telephone = StringIndexer(inputCol = 'Telephone', outputCol = 'Telephone_IX')\n",
    "si_ForeignWorker = StringIndexer(inputCol = 'ForeignWorker', outputCol = 'ForeignWorker_IX')"
   ]
  },
  {
   "cell_type": "code",
   "execution_count": 17,
   "metadata": {
    "scrolled": true
   },
   "outputs": [],
   "source": [
    "si_Label = StringIndexer(inputCol=\"Risk\", outputCol=\"label\").fit(spark_df)\n",
    "label_converter = IndexToString(inputCol=\"prediction\", outputCol=\"predictedLabel\", labels=si_Label.labels)\n",
    "va_features = VectorAssembler(inputCols=[\"CheckingStatus_IX\", \"CreditHistory_IX\", \"LoanPurpose_IX\", \"ExistingSavings_IX\", \"EmploymentDuration_IX\", \"Sex_IX\", \\\n",
    "                                         \"OthersOnLoan_IX\", \"OwnsProperty_IX\", \"InstallmentPlans_IX\", \"Housing_IX\", \"Job_IX\", \"Telephone_IX\", \"ForeignWorker_IX\", \\\n",
    "                                         \"LoanDuration\", \"LoanAmount\", \"InstallmentPercent\", \"CurrentResidenceDuration\", \"LoanDuration\", \"Age\", \"ExistingCreditsCount\", \\\n",
    "                                         \"Dependents\"], outputCol=\"features\")"
   ]
  },
  {
   "cell_type": "code",
   "execution_count": 18,
   "metadata": {
    "scrolled": true
   },
   "outputs": [],
   "source": [
    "from pyspark.ml.classification import RandomForestClassifier\n",
    "classifier = RandomForestClassifier(featuresCol=\"features\")\n",
    "\n",
    "# create the Spark ml pipeline with the random forest classifier\n",
    "pipeline = Pipeline(stages=[si_CheckingStatus, si_CreditHistory, si_EmploymentDuration, si_ExistingSavings, si_ForeignWorker, si_Housing, si_InstallmentPlans, si_Job, si_LoanPurpose, si_OthersOnLoan,\\\n",
    "                               si_OwnsProperty, si_Sex, si_Telephone, si_Label, va_features, classifier, label_converter])\n",
    "model = pipeline.fit(train_data)"
   ]
  },
  {
   "cell_type": "code",
   "execution_count": 19,
   "metadata": {
    "scrolled": true
   },
   "outputs": [
    {
     "name": "stdout",
     "output_type": "stream",
     "text": [
      "areaUnderROC = 0.514925\n"
     ]
    }
   ],
   "source": [
    "predictions = model.transform(test_data)\n",
    "evaluatorDT = BinaryClassificationEvaluator(rawPredictionCol=\"prediction\")\n",
    "area_under_curve = evaluatorDT.evaluate(predictions)\n",
    "\n",
    "#default evaluation is areaUnderROC\n",
    "print(\"areaUnderROC = %g\" % area_under_curve)"
   ]
  },
  {
   "cell_type": "markdown",
   "metadata": {},
   "source": [
    "# Save and deploy the model"
   ]
  },
  {
   "cell_type": "code",
   "execution_count": 20,
   "metadata": {
    "scrolled": true
   },
   "outputs": [],
   "source": [
    "from watson_machine_learning_client import WatsonMachineLearningAPIClient\n",
    "import json\n",
    "\n",
    "wml_client = WatsonMachineLearningAPIClient(WML_CREDENTIALS)"
   ]
  },
  {
   "cell_type": "markdown",
   "metadata": {},
   "source": [
    "### Remove existing model and deployment"
   ]
  },
  {
   "cell_type": "code",
   "execution_count": 21,
   "metadata": {
    "scrolled": true
   },
   "outputs": [
    {
     "name": "stdout",
     "output_type": "stream",
     "text": [
      "Deleting deployment id 0681c4e6-1d9e-4b8b-9488-47027bda4d42\n",
      "Deleting model id d12a9e45-6113-4048-a87c-27956edcc314\n",
      "------------------------------------  -------------------------------------  ------------------------  -----------------\n",
      "GUID                                  NAME                                   CREATED                   FRAMEWORK\n",
      "f0dca134-68ba-4bdc-b86e-166f22f5b40b  RC German Credit Risk Model - PreProd  2019-11-19T08:11:33.539Z  mllib-2.3\n",
      "07666d82-9e1c-4d98-8183-14fa3635013b  GermanCreditRiskModelYPQA              2019-10-27T01:07:39.977Z  mllib-2.3\n",
      "5ff3338a-b6ea-4788-a848-42c687cddc8f  Home Sale Model hype                   2019-10-20T05:53:40.289Z  scikit-learn-0.20\n",
      "d75a6bc9-c664-40f0-9cda-2eb8b8939894  Home Sale Model hype                   2019-10-19T16:49:58.344Z  scikit-learn-0.20\n",
      "d688d485-2b62-4346-80e3-a10ed7c87683  Home Sale Model hype                   2019-10-19T11:30:34.344Z  scikit-learn-0.20\n",
      "4226c626-fd6d-4685-9b1c-bb6904bbf17c  Home Sale Model hype                   2019-10-19T11:10:11.671Z  scikit-learn-0.20\n",
      "eef625ee-e22a-4d8d-b93e-c11cc3f7296a  GermanCreditRiskModel                  2019-10-13T16:04:10.992Z  mllib-2.3\n",
      "------------------------------------  -------------------------------------  ------------------------  -----------------\n"
     ]
    }
   ],
   "source": [
    "model_deployment_ids = wml_client.deployments.get_uids()\n",
    "for deployment_id in model_deployment_ids:\n",
    "    deployment = wml_client.deployments.get_details(deployment_id)\n",
    "    model_id = deployment['entity']['deployable_asset']['guid']\n",
    "    if deployment['entity']['name'] == DEPLOYMENT_NAME:\n",
    "        print('Deleting deployment id', deployment_id)\n",
    "        wml_client.deployments.delete(deployment_id)\n",
    "        print('Deleting model id', model_id)\n",
    "        wml_client.repository.delete(model_id)\n",
    "wml_client.repository.list_models()"
   ]
  },
  {
   "cell_type": "code",
   "execution_count": 22,
   "metadata": {
    "scrolled": true
   },
   "outputs": [],
   "source": [
    "model_props = {\n",
    "    wml_client.repository.ModelMetaNames.NAME: \"{}\".format(MODEL_NAME),\n",
    "    wml_client.repository.ModelMetaNames.EVALUATION_METHOD: \"binary\",\n",
    "    wml_client.repository.ModelMetaNames.EVALUATION_METRICS: [\n",
    "        {\n",
    "           \"name\": \"areaUnderROC\",\n",
    "           \"value\": area_under_curve,\n",
    "           \"threshold\": 0.7\n",
    "        }\n",
    "    ]\n",
    "}"
   ]
  },
  {
   "cell_type": "code",
   "execution_count": 23,
   "metadata": {
    "scrolled": true
   },
   "outputs": [
    {
     "name": "stdout",
     "output_type": "stream",
     "text": [
      "Storing model ...\n",
      "Done\n"
     ]
    }
   ],
   "source": [
    "wml_models = wml_client.repository.get_details()\n",
    "model_uid = None\n",
    "for model_in in wml_models['models']['resources']:\n",
    "    if MODEL_NAME == model_in['entity']['name']:\n",
    "        model_uid = model_in['metadata']['guid']\n",
    "        break\n",
    "\n",
    "if model_uid is None:\n",
    "    print(\"Storing model ...\")\n",
    "\n",
    "    published_model_details = wml_client.repository.store_model(model=model, meta_props=model_props, training_data=train_data, pipeline=pipeline)\n",
    "    model_uid = wml_client.repository.get_model_uid(published_model_details)\n",
    "    print(\"Done\")"
   ]
  },
  {
   "cell_type": "code",
   "execution_count": 24,
   "metadata": {
    "scrolled": true
   },
   "outputs": [
    {
     "data": {
      "text/plain": [
       "'5ff3338a-b6ea-4788-a848-42c687cddc8f'"
      ]
     },
     "execution_count": 24,
     "metadata": {},
     "output_type": "execute_result"
    }
   ],
   "source": [
    "model_id"
   ]
  },
  {
   "cell_type": "code",
   "execution_count": 25,
   "metadata": {
    "scrolled": true
   },
   "outputs": [
    {
     "name": "stdout",
     "output_type": "stream",
     "text": [
      "Deploying model...\n",
      "\n",
      "\n",
      "#######################################################################################\n",
      "\n",
      "Synchronous deployment creation for uid: '494a5b18-e017-4ef4-8ab0-3c3292f3272f' started\n",
      "\n",
      "#######################################################################################\n",
      "\n",
      "\n",
      "INITIALIZING\n",
      "DEPLOY_IN_PROGRESS\n",
      "DEPLOY_SUCCESS\n",
      "\n",
      "\n",
      "------------------------------------------------------------------------------------------------\n",
      "Successfully finished deployment creation, deployment_uid='08ca211d-887e-4b45-ae93-4b9303850f80'\n",
      "------------------------------------------------------------------------------------------------\n",
      "\n",
      "\n",
      "Model id: 494a5b18-e017-4ef4-8ab0-3c3292f3272f\n",
      "Deployment id: 08ca211d-887e-4b45-ae93-4b9303850f80\n"
     ]
    }
   ],
   "source": [
    "wml_deployments = wml_client.deployments.get_details()\n",
    "deployment_uid = None\n",
    "for deployment in wml_deployments['resources']:\n",
    "    if DEPLOYMENT_NAME == deployment['entity']['name']:\n",
    "        deployment_uid = deployment['metadata']['guid']\n",
    "        break\n",
    "\n",
    "if deployment_uid is None:\n",
    "    print(\"Deploying model...\")\n",
    "\n",
    "    deployment = wml_client.deployments.create(artifact_uid=model_uid, name=DEPLOYMENT_NAME, asynchronous=False)\n",
    "    deployment_uid = wml_client.deployments.get_uid(deployment)\n",
    "    \n",
    "print(\"Model id: {}\".format(model_uid))\n",
    "print(\"Deployment id: {}\".format(deployment_uid))"
   ]
  },
  {
   "cell_type": "markdown",
   "metadata": {},
   "source": [
    "### Score the model so we can configure monitors"
   ]
  },
  {
   "cell_type": "code",
   "execution_count": 26,
   "metadata": {
    "scrolled": true
   },
   "outputs": [
    {
     "name": "stdout",
     "output_type": "stream",
     "text": [
      "08ca211d-887e-4b45-ae93-4b9303850f80\n",
      "https://us-south.ml.cloud.ibm.com/v3/wml_instances/3e6dc383-581d-4c97-8715-a46523f79fb1/deployments/08ca211d-887e-4b45-ae93-4b9303850f80/online\n"
     ]
    }
   ],
   "source": [
    "credit_risk_scoring_endpoint = None\n",
    "print(deployment_uid)\n",
    "\n",
    "for deployment in wml_client.deployments.get_details()['resources']:\n",
    "    if deployment_uid in deployment['metadata']['guid']:\n",
    "        credit_risk_scoring_endpoint = deployment['entity']['scoring_url']\n",
    "        \n",
    "print(credit_risk_scoring_endpoint)"
   ]
  },
  {
   "cell_type": "markdown",
   "metadata": {},
   "source": [
    "## Score the model"
   ]
  },
  {
   "cell_type": "code",
   "execution_count": 27,
   "metadata": {},
   "outputs": [
    {
     "name": "stdout",
     "output_type": "stream",
     "text": [
      "rm: cannot remove ‘credit_risk_training_age_modified.csv’: No such file or directory\n",
      "--2019-11-23 12:33:05--  https://raw.githubusercontent.com/ravichamarthy/german-credit/master/credit_risk_training_age_modified.csv\n",
      "Resolving raw.githubusercontent.com (raw.githubusercontent.com)... 199.232.8.133\n",
      "Connecting to raw.githubusercontent.com (raw.githubusercontent.com)|199.232.8.133|:443... connected.\n",
      "HTTP request sent, awaiting response... 200 OK\n",
      "Length: 854709 (835K) [text/plain]\n",
      "Saving to: ‘credit_risk_training_age_modified.csv’\n",
      "\n",
      "100%[======================================>] 854,709     --.-K/s   in 0.04s   \n",
      "\n",
      "2019-11-23 12:33:06 (21.8 MB/s) - ‘credit_risk_training_age_modified.csv’ saved [854709/854709]\n",
      "\n"
     ]
    }
   ],
   "source": [
    "!rm credit_risk_training_age_modified.csv\n",
    "!wget https://raw.githubusercontent.com/ravichamarthy/german-credit/master/credit_risk_training_age_modified.csv\n",
    "#!wget https://raw.githubusercontent.com/IBM/monitor-wml-model-with-watson-openscale/master/data/german_credit_data_biased_training.csv"
   ]
  },
  {
   "cell_type": "code",
   "execution_count": 28,
   "metadata": {},
   "outputs": [
    {
     "name": "stdout",
     "output_type": "stream",
     "text": [
      "scoring_request_df length:6251\n"
     ]
    }
   ],
   "source": [
    "from pyspark.sql import SparkSession\n",
    "import pandas as pd\n",
    "import json\n",
    "\n",
    "spark = SparkSession.builder.getOrCreate()\n",
    "#scoring_request_all = pd.read_csv(\"credit_risk_training_age_modified.csv\", sep=\",\", header=0)\n",
    "scoring_request_df = pd.read_csv(\"credit_risk_training_age_modified.csv\", sep=\",\", header=0)\n",
    "#scoring_request_df = scoring_request_all.sample(frac=0.05)\n",
    "#scoring_request_df = scoring_request_df.sort_index(axis = 0)\n",
    "print('scoring_request_df length:'+str(len(scoring_request_df)))\n",
    "fields = scoring_request_df.columns.tolist()\n",
    "values = scoring_request_df.values.tolist()"
   ]
  },
  {
   "cell_type": "markdown",
   "metadata": {},
   "source": [
    "### Create the scoring payload and score against the WML model"
   ]
  },
  {
   "cell_type": "code",
   "execution_count": 29,
   "metadata": {},
   "outputs": [],
   "source": [
    "fields = scoring_request_df.columns.tolist()\n",
    "values = scoring_request_df[fields].values.tolist()\n",
    "payload_scoring = {\"fields\": fields, \"values\": values}\n",
    "\n",
    "scoring_response = wml_client.deployments.score(credit_risk_scoring_endpoint, payload_scoring)"
   ]
  },
  {
   "cell_type": "code",
   "execution_count": 30,
   "metadata": {},
   "outputs": [],
   "source": [
    "fields = scoring_response['fields']\n",
    "values = scoring_response['values']\n",
    "\n",
    "# create a pandas data frame using the scored response\n",
    "scoring_response_df = pd.DataFrame(values, columns = fields)"
   ]
  },
  {
   "cell_type": "code",
   "execution_count": 31,
   "metadata": {},
   "outputs": [
    {
     "name": "stdout",
     "output_type": "stream",
     "text": [
      "Number of minorities/unprivileged population in scored data(female) :1695\n",
      "Number of majorities/privilaged population in scored data(male) :4556\n",
      "Number of minorities with favorable outcomes in scored data(female) :1659\n",
      "Number of majorities with favorable outcomes in scored data(male) :4556\n",
      "Number of minorities with unfavorable outcomes in scored data(female) :36\n",
      "Number of majorities with unfavorable outcomes in scored data(male) :0\n",
      "The disparate impact metric value on the scored data:0.9787610619469026\n",
      "The statistical parity difference metric value on the scored data:-0.0212389380530974\n"
     ]
    }
   ],
   "source": [
    "# the label column\n",
    "label = 'predictedLabel'\n",
    "\n",
    "scored_minority_df, scored_majority_df, scored_minority_favorable_df, scored_majority_favorable_df, \\\n",
    "scored_minority_unfavorable_df, scored_majority_unfavorable_df, scored_favorable_minority_rate, scored_favorable_majority_rate = get_data_distribution(scoring_response_df, label)\n",
    "\n",
    "scored_di_value = scored_favorable_minority_rate / scored_favorable_majority_rate\n",
    "scored_spd_value = scored_favorable_minority_rate - scored_favorable_majority_rate\n",
    "\n",
    "print('Number of minorities/unprivileged population in scored data(' + str(minority) + ') :' + str(len(scored_minority_df)))\n",
    "print('Number of majorities/privilaged population in scored data(' + str(majority) + ') :' + str(len(scored_majority_df)))\n",
    "print('Number of minorities with favorable outcomes in scored data(' + str(minority) + ') :' + str(len(scored_minority_favorable_df)))\n",
    "print('Number of majorities with favorable outcomes in scored data(' + str(majority) + ') :' + str(len(scored_majority_favorable_df)))\n",
    "print('Number of minorities with unfavorable outcomes in scored data(' + str(minority) + ') :' + str(len(scored_minority_unfavorable_df)))\n",
    "print('Number of majorities with unfavorable outcomes in scored data(' + str(majority) + ') :' + str(len(scored_majority_unfavorable_df)))\n",
    "\n",
    "\n",
    "print('The disparate impact metric value on the scored data:'+str(scored_di_value))\n",
    "print('The statistical parity difference metric value on the scored data:'+str(scored_spd_value))"
   ]
  },
  {
   "cell_type": "markdown",
   "metadata": {},
   "source": [
    "### Plot the favorable prediction values in the scored outcome"
   ]
  },
  {
   "cell_type": "code",
   "execution_count": 32,
   "metadata": {},
   "outputs": [
    {
     "data": {
      "image/png": "[encoded data removed]",
      "text/plain": [
       "<Figure size 432x288 with 1 Axes>"
      ]
     },
     "metadata": {
      "needs_background": "light"
     },
     "output_type": "display_data"
    }
   ],
   "source": [
    "scored_x_axis = [1, 0]\n",
    "scored_y_axis = [len(scored_minority_favorable_df), len(scored_majority_favorable_df)]\n",
    "scored_x_axis_labels = [minority, majority]\n",
    "\n",
    "plt.bar(scored_x_axis, scored_y_axis, align='center')\n",
    "plt.xticks(scored_x_axis, scored_x_axis_labels)\n",
    "plt.xlabel('Sex')\n",
    "plt.ylabel('No. of favorable labels')\n",
    "plt.title('Scored - favorable distribution')\n",
    "plt.show()"
   ]
  },
  {
   "cell_type": "markdown",
   "metadata": {},
   "source": [
    "### Plot the favorable values in the training data - for reference"
   ]
  },
  {
   "cell_type": "code",
   "execution_count": 33,
   "metadata": {},
   "outputs": [
    {
     "data": {
      "image/png": "[encoded data removed]",
      "text/plain": [
       "<Figure size 432x288 with 1 Axes>"
      ]
     },
     "metadata": {
      "needs_background": "light"
     },
     "output_type": "display_data"
    }
   ],
   "source": [
    "x_axis = [1, 0]\n",
    "y_axis = [len(minority_favorable_df), len(majority_favorable_df)]\n",
    "x_axis_labels = [minority, majority]\n",
    "\n",
    "plt.bar(x_axis, y_axis, align='center')\n",
    "plt.xticks(x_axis, x_axis_labels)\n",
    "plt.xlabel('Sex')\n",
    "plt.ylabel('No. of favorable labels')\n",
    "plt.title('Training data - Favorable distribution')\n",
    "plt.show()"
   ]
  },
  {
   "cell_type": "markdown",
   "metadata": {},
   "source": [
    "#### As you can see the model is predicting good outcomes and spread correctly to both the population groups. What we have done till here is manually finding out the rate of the favorable outcomes for both the groups. In the next series of sections, we shall make use of the IBM’s AIF360 fairness toolkit and try to measure the fairness between both the unprivileged and privileged groups."
   ]
  },
  {
   "cell_type": "code",
   "execution_count": 34,
   "metadata": {},
   "outputs": [],
   "source": [
    "# AIF360 requirement - Values should be preprocessed to remove NAs and make all data numerical.\n",
    "sex_map = {'male': 0.0, 'female': 1.0}\n",
    "labels_map = {'No Risk': 0.0, 'Risk': 1.0}\n",
    "scoring_request_df['Sex'] = scoring_request_df['Sex'].replace(sex_map)\n",
    "scoring_request_df['Risk'] = scoring_request_df['Risk'].replace(labels_map)\n",
    "\n",
    "# Input DataFrame with features, labels, and protected attributes.\n",
    "scoring_request_df = scoring_request_df[['Sex','Risk']]"
   ]
  },
  {
   "cell_type": "code",
   "execution_count": 35,
   "metadata": {},
   "outputs": [],
   "source": [
    "# AIF360 imports\n",
    "from aif360.datasets import BinaryLabelDataset as BLD\n",
    "from aif360.datasets import StandardDataset as STD\n",
    "from aif360.metrics import BinaryLabelDatasetMetric\n",
    "from aif360.metrics import ClassificationMetric"
   ]
  },
  {
   "cell_type": "code",
   "execution_count": 36,
   "metadata": {},
   "outputs": [],
   "source": [
    "# create a binary label data set with following attributes:\n",
    "## encoded favorable (No Risk) value: 0.0\n",
    "## encoded unfavorable (Risk) value: 1.0\n",
    "## the binary data frame comprising of the feature and the label values: scoring_request_df\n",
    "## label_names: Risk column\n",
    "## protected_attribute_names: Sex column\n",
    "## privileged_protected_attributes: encoded value for males: 0.0\n",
    "\n",
    "dataset = BLD(favorable_label=0., unfavorable_label=1., df=scoring_request_df,\n",
    "              label_names=[\"Risk\"], protected_attribute_names=[\"Sex\"], \n",
    "              privileged_protected_attributes=[0.0])\n",
    "\n",
    "# create another binary data set with additional columns containing the model predicted values - prediction and probability\n",
    "dataset_pred = dataset.copy(deepcopy=True)\n",
    "dataset_pred.scores = scoring_response_df['probability']\n",
    "dataset_pred.labels = scoring_response_df['prediction']\n",
    "\n",
    "# encode the unprivilage and privilage groups\n",
    "unprivileged_groups = [{'Sex': 1.0}]\n",
    "privileged_groups = [{'Sex': 0.0}]\n",
    "\n",
    "# Now create an Classification Metric with the labeled data set and the predicted values based data set. Also mention what are the privilaged and unprivileged groups.\n",
    "cm = ClassificationMetric (dataset, dataset_pred, unprivileged_groups=unprivileged_groups, privileged_groups=privileged_groups)"
   ]
  },
  {
   "cell_type": "code",
   "execution_count": 47,
   "metadata": {},
   "outputs": [
    {
     "name": "stdout",
     "output_type": "stream",
     "text": [
      "-0.0212389380530974\n"
     ]
    }
   ],
   "source": [
    "# What is the difference in favorable outcomes between males (privilaged) and feamles (unprivilaged) groups?\n",
    "# When that difference is small or close to zero, the classifier is said to have “statistical parity” (statistically fair to both the groups).\n",
    "# In this example, the statistical parity difference value is -0.0165, which means that male population have received a slightly (by a factor of 0.0165) favorable outcomes when compared to females.\n",
    "statistical_parity_difference = cm.statistical_parity_difference()\n",
    "print(statistical_parity_difference)"
   ]
  },
  {
   "cell_type": "code",
   "execution_count": 48,
   "metadata": {},
   "outputs": [
    {
     "name": "stdout",
     "output_type": "stream",
     "text": [
      "0.9787610619469026\n"
     ]
    }
   ],
   "source": [
    "disparate_impact = cm.disparate_impact()\n",
    "print(disparate_impact)"
   ]
  },
  {
   "cell_type": "code",
   "execution_count": 49,
   "metadata": {},
   "outputs": [
    {
     "name": "stdout",
     "output_type": "stream",
     "text": [
      "0.001935845727733805\n"
     ]
    }
   ],
   "source": [
    "between_all_groups_generalized_entropy_index = cm.between_all_groups_generalized_entropy_index(alpha=2)\n",
    "print(between_all_groups_generalized_entropy_index)"
   ]
  },
  {
   "cell_type": "code",
   "execution_count": 50,
   "metadata": {},
   "outputs": [
    {
     "name": "stdout",
     "output_type": "stream",
     "text": [
      "0.001935845727733805\n"
     ]
    }
   ],
   "source": [
    "between_group_generalized_entropy_index = cm.between_group_generalized_entropy_index(alpha=2)\n",
    "print(between_group_generalized_entropy_index)"
   ]
  },
  {
   "cell_type": "code",
   "execution_count": 51,
   "metadata": {},
   "outputs": [
    {
     "name": "stdout",
     "output_type": "stream",
     "text": [
      "0.0018969443963106902\n"
     ]
    }
   ],
   "source": [
    "between_group_theil_index = cm.between_group_theil_index()\n",
    "print(between_group_theil_index)"
   ]
  },
  {
   "cell_type": "code",
   "execution_count": 52,
   "metadata": {},
   "outputs": [
    {
     "name": "stdout",
     "output_type": "stream",
     "text": [
      "0.0018969443963106902\n"
     ]
    }
   ],
   "source": [
    "between_all_groups_theil_index = cm.between_all_groups_theil_index()\n",
    "print(between_all_groups_theil_index)"
   ]
  },
  {
   "cell_type": "code",
   "execution_count": 53,
   "metadata": {},
   "outputs": [
    {
     "name": "stdout",
     "output_type": "stream",
     "text": [
      "0.08799649374228055\n"
     ]
    }
   ],
   "source": [
    "between_group_coefficient_of_variation = cm.between_group_coefficient_of_variation()\n",
    "print(between_group_coefficient_of_variation)"
   ]
  },
  {
   "cell_type": "code",
   "execution_count": 54,
   "metadata": {},
   "outputs": [
    {
     "name": "stdout",
     "output_type": "stream",
     "text": [
      "0.08799649374228055\n"
     ]
    }
   ],
   "source": [
    "between_all_groups_coefficient_of_variation = cm.between_all_groups_coefficient_of_variation()\n",
    "print(between_all_groups_coefficient_of_variation)"
   ]
  },
  {
   "cell_type": "code",
   "execution_count": 55,
   "metadata": {},
   "outputs": [
    {
     "name": "stdout",
     "output_type": "stream",
     "text": [
      "0.06034196094725056\n"
     ]
    }
   ],
   "source": [
    "generalized_entropy_index = cm.generalized_entropy_index(2)\n",
    "print(generalized_entropy_index)"
   ]
  },
  {
   "cell_type": "code",
   "execution_count": null,
   "metadata": {},
   "outputs": [],
   "source": []
  }
 ],
 "metadata": {
  "kernelspec": {
   "display_name": "Python 3.6",
   "language": "python",
   "name": "python3"
  },
  "language_info": {
   "codemirror_mode": {
    "name": "ipython",
    "version": 3
   },
   "file_extension": ".py",
   "mimetype": "text/x-python",
   "name": "python",
   "nbconvert_exporter": "python",
   "pygments_lexer": "ipython3",
   "version": "3.6.8"
  }
 },
 "nbformat": 4,
 "nbformat_minor": 1
}
