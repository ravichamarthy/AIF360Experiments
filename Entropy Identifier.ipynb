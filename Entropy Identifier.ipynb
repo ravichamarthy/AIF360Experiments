{
 "cells": [
  {
   "cell_type": "code",
   "execution_count": 1,
   "metadata": {},
   "outputs": [
    {
     "name": "stdout",
     "output_type": "stream",
     "text": [
      "\u001b[31mERROR: tensorflow 1.13.1 requires tensorboard<1.14.0,>=1.13.0, which is not installed.\u001b[0m\n",
      "\u001b[31mERROR: autoai-libs 1.10.3 has requirement pandas>=0.24.2, but you'll have pandas 0.24.1 which is incompatible.\u001b[0m\n",
      "Successfully installed aif360-0.2.2 numpy-1.17.4\n"
     ]
    }
   ],
   "source": [
    "!pip install --upgrade aif360 --no-cache | tail -n 1"
   ]
  },
  {
   "cell_type": "code",
   "execution_count": 3,
   "metadata": {},
   "outputs": [],
   "source": [
    "# AIF360 imports\n",
    "from aif360.datasets import BinaryLabelDataset\n",
    "from aif360.metrics import ClassificationMetric\n",
    "\n",
    "#other imports\n",
    "import numpy as np\n",
    "import pandas as pd"
   ]
  },
  {
   "cell_type": "code",
   "execution_count": 4,
   "metadata": {},
   "outputs": [],
   "source": [
    "data = np.array([ [0,1], [0,0], [1,0], [1,1], [1,1], [1,1], [2,0], [2,0],[2,1], [2,1]])\n",
    "pred = np.array([ [0,1], [0,1], [1,0], [1,0], [1,0], [1,0], [2,1], [2,1],[2,1], [2,1]])"
   ]
  },
  {
   "cell_type": "code",
   "execution_count": 5,
   "metadata": {},
   "outputs": [
    {
     "name": "stdout",
     "output_type": "stream",
     "text": [
      "between_all_groups_generalized_entropy_index:0.1875\n"
     ]
    }
   ],
   "source": [
    "labels_df = pd.DataFrame(data, columns=['race', 'label'])\n",
    "predictions_df = pd.DataFrame(pred, columns=['race', 'label'])\n",
    "\n",
    "unprivileged_groups = [{'race': 0.0}]\n",
    "privileged_groups = [{'race': 1.0}]\n",
    "\n",
    "labels_dataset = BinaryLabelDataset(df=labels_df, label_names=['label'], protected_attribute_names=['race'])\n",
    "preds_dataset = BinaryLabelDataset(df=predictions_df, label_names=['label'], protected_attribute_names=['race'])\n",
    "#cm = ClassificationMetric(labels_dataset, preds_dataset)\n",
    "cm = ClassificationMetric(labels_dataset, preds_dataset, unprivileged_groups=unprivileged_groups, privileged_groups=privileged_groups)\n",
    "\n",
    "between_all_groups_generalized_entropy_index = cm.between_all_groups_generalized_entropy_index()\n",
    "print('between_all_groups_generalized_entropy_index:'+str(between_all_groups_generalized_entropy_index))"
   ]
  },
  {
   "cell_type": "code",
   "execution_count": null,
   "metadata": {},
   "outputs": [],
   "source": []
  }
 ],
 "metadata": {
  "kernelspec": {
   "display_name": "Python 3.6",
   "language": "python",
   "name": "python3"
  },
  "language_info": {
   "codemirror_mode": {
    "name": "ipython",
    "version": 3
   },
   "file_extension": ".py",
   "mimetype": "text/x-python",
   "name": "python",
   "nbconvert_exporter": "python",
   "pygments_lexer": "ipython3",
   "version": "3.6.8"
  }
 },
 "nbformat": 4,
 "nbformat_minor": 1
}
